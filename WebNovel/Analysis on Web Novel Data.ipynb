{
 "cells": [
  {
   "cell_type": "markdown",
   "id": "e07bd04b",
   "metadata": {},
   "source": [
    "# Analysis on Web Novel Data\n",
    "\n",
    "### Part 1: Regression Analysis of Title Length's Effect on the Popularity\n",
    "In this part, I will use robust linear regression and quantile regression to estimate title length’s effect on the number of books and the average score of web novels."
   ]
  },
  {
   "cell_type": "code",
   "execution_count": 1,
   "id": "079f52a8",
   "metadata": {},
   "outputs": [],
   "source": [
    "import pandas as pd\n",
    "import numpy as np\n",
    "from IPython.display import display\n",
    "from sklearn.preprocessing import LabelEncoder\n",
    "from sklearn.model_selection import train_test_split\n",
    "from stargazer.stargazer import Stargazer\n",
    "from IPython.core.display import HTML\n",
    "from statsmodels.formula.api import rlm\n",
    "from statsmodels.formula.api import quantreg\n",
    "import matplotlib.pyplot as plt\n",
    "import seaborn as sns\n",
    "import warnings\n",
    "pd.options.display.max_columns = None\n",
    "warnings.filterwarnings(\"ignore\")\n",
    "sns.set_theme()"
   ]
  },
  {
   "cell_type": "code",
   "execution_count": 2,
   "id": "5e9697af",
   "metadata": {},
   "outputs": [
    {
     "data": {
      "text/html": [
       "<div>\n",
       "<style scoped>\n",
       "    .dataframe tbody tr th:only-of-type {\n",
       "        vertical-align: middle;\n",
       "    }\n",
       "\n",
       "    .dataframe tbody tr th {\n",
       "        vertical-align: top;\n",
       "    }\n",
       "\n",
       "    .dataframe thead th {\n",
       "        text-align: right;\n",
       "    }\n",
       "</style>\n",
       "<table border=\"1\" class=\"dataframe\">\n",
       "  <thead>\n",
       "    <tr style=\"text-align: right;\">\n",
       "      <th></th>\n",
       "      <th>Title</th>\n",
       "      <th>Status</th>\n",
       "      <th>Parts</th>\n",
       "      <th>Abstract</th>\n",
       "      <th>Publish Date</th>\n",
       "      <th>Author</th>\n",
       "      <th>ID</th>\n",
       "      <th>Sub_Genre</th>\n",
       "      <th>Genre</th>\n",
       "      <th>Latest_Update</th>\n",
       "      <th>Word_Count</th>\n",
       "      <th>Weekly_Viewers</th>\n",
       "      <th>Reviews</th>\n",
       "      <th>Bookmarks</th>\n",
       "      <th>Ratings</th>\n",
       "      <th>Total_Scores</th>\n",
       "      <th>Keywords</th>\n",
       "      <th>Title_Length</th>\n",
       "      <th>Abstract_Length</th>\n",
       "      <th>Average_Score</th>\n",
       "      <th>No_update</th>\n",
       "    </tr>\n",
       "  </thead>\n",
       "  <tbody>\n",
       "    <tr>\n",
       "      <th>0</th>\n",
       "      <td>満月の騎士</td>\n",
       "      <td>Completed</td>\n",
       "      <td>25</td>\n",
       "      <td>どこかで聞いたことのあるような名前の主人公はある時、幽霊の憑いた木刀を手にいれる。さて、これ...</td>\n",
       "      <td>2007-01-01</td>\n",
       "      <td>雨月</td>\n",
       "      <td>N3460B</td>\n",
       "      <td>Others</td>\n",
       "      <td>Others</td>\n",
       "      <td>2007-04-29</td>\n",
       "      <td>82039</td>\n",
       "      <td>100</td>\n",
       "      <td>0</td>\n",
       "      <td>3</td>\n",
       "      <td>2.0</td>\n",
       "      <td>12.0</td>\n",
       "      <td>霊 シリアス コメディ ハッピーエンド らぶらぶ 高校生 現代(モダン)</td>\n",
       "      <td>5</td>\n",
       "      <td>76</td>\n",
       "      <td>6.0</td>\n",
       "      <td>0</td>\n",
       "    </tr>\n",
       "    <tr>\n",
       "      <th>1</th>\n",
       "      <td>エイト・アイズ</td>\n",
       "      <td>On Going</td>\n",
       "      <td>24</td>\n",
       "      <td>狐宮龍弥は天才である。天才であるが故に子供のころから色々と危険な目にもあった。なので、護身術...</td>\n",
       "      <td>2007-01-01</td>\n",
       "      <td>サカガミ ヤスヒロ</td>\n",
       "      <td>N3458B</td>\n",
       "      <td>Others</td>\n",
       "      <td>Others</td>\n",
       "      <td>2007-07-02</td>\n",
       "      <td>47311</td>\n",
       "      <td>100</td>\n",
       "      <td>0</td>\n",
       "      <td>0</td>\n",
       "      <td>0.0</td>\n",
       "      <td>0.0</td>\n",
       "      <td>目 ８ 悪霊 霊 妖怪 高校生 現代(モダン) 霊界/地獄/天国 残酷な描写有り</td>\n",
       "      <td>7</td>\n",
       "      <td>106</td>\n",
       "      <td>NaN</td>\n",
       "      <td>1</td>\n",
       "    </tr>\n",
       "    <tr>\n",
       "      <th>2</th>\n",
       "      <td>フェア</td>\n",
       "      <td>On Going</td>\n",
       "      <td>33</td>\n",
       "      <td>自分の村を失った少年や大人が、教会で新たな仲間と出会い、世界を守るために闇と戦っていく…悲し...</td>\n",
       "      <td>2007-01-01</td>\n",
       "      <td>藍</td>\n",
       "      <td>N3456B</td>\n",
       "      <td>Others</td>\n",
       "      <td>Others</td>\n",
       "      <td>2007-11-09</td>\n",
       "      <td>94887</td>\n",
       "      <td>100</td>\n",
       "      <td>0</td>\n",
       "      <td>0</td>\n",
       "      <td>0.0</td>\n",
       "      <td>0.0</td>\n",
       "      <td>戦争 ファンタジー 少年 十字架 双子</td>\n",
       "      <td>3</td>\n",
       "      <td>65</td>\n",
       "      <td>NaN</td>\n",
       "      <td>1</td>\n",
       "    </tr>\n",
       "    <tr>\n",
       "      <th>3</th>\n",
       "      <td>SPhinX</td>\n",
       "      <td>On Going</td>\n",
       "      <td>7</td>\n",
       "      <td>SPhinxとは、SP(SecurityPolice：要人警護、警護官)とスフィンクス（伝説...</td>\n",
       "      <td>2007-01-02</td>\n",
       "      <td>瑛彪・玄彪</td>\n",
       "      <td>N3483B</td>\n",
       "      <td>High Fantasy</td>\n",
       "      <td>Fantasy</td>\n",
       "      <td>2007-12-28</td>\n",
       "      <td>9244</td>\n",
       "      <td>100</td>\n",
       "      <td>0</td>\n",
       "      <td>0</td>\n",
       "      <td>1.0</td>\n",
       "      <td>2.0</td>\n",
       "      <td>ＳＰ 中学生 高校生 太古 現代(モダン)</td>\n",
       "      <td>6</td>\n",
       "      <td>82</td>\n",
       "      <td>2.0</td>\n",
       "      <td>1</td>\n",
       "    </tr>\n",
       "    <tr>\n",
       "      <th>4</th>\n",
       "      <td>フェチ性人格障害</td>\n",
       "      <td>On Going</td>\n",
       "      <td>24</td>\n",
       "      <td>誰でも潜む欲求。普通に生活し普通に生きてきたはずの男性や女性のふとした事からのフェチシズム。...</td>\n",
       "      <td>2007-01-02</td>\n",
       "      <td>かずん。</td>\n",
       "      <td>N3485B</td>\n",
       "      <td>Others</td>\n",
       "      <td>Others</td>\n",
       "      <td>2007-01-28</td>\n",
       "      <td>27414</td>\n",
       "      <td>100</td>\n",
       "      <td>0</td>\n",
       "      <td>0</td>\n",
       "      <td>0.0</td>\n",
       "      <td>0.0</td>\n",
       "      <td>R15 精神病 解離 人格障害 フェチシズム</td>\n",
       "      <td>8</td>\n",
       "      <td>93</td>\n",
       "      <td>NaN</td>\n",
       "      <td>1</td>\n",
       "    </tr>\n",
       "  </tbody>\n",
       "</table>\n",
       "</div>"
      ],
      "text/plain": [
       "      Title     Status  Parts  \\\n",
       "0     満月の騎士  Completed     25   \n",
       "1   エイト・アイズ   On Going     24   \n",
       "2       フェア   On Going     33   \n",
       "3    SPhinX   On Going      7   \n",
       "4  フェチ性人格障害   On Going     24   \n",
       "\n",
       "                                            Abstract Publish Date     Author  \\\n",
       "0  どこかで聞いたことのあるような名前の主人公はある時、幽霊の憑いた木刀を手にいれる。さて、これ...   2007-01-01         雨月   \n",
       "1  狐宮龍弥は天才である。天才であるが故に子供のころから色々と危険な目にもあった。なので、護身術...   2007-01-01  サカガミ ヤスヒロ   \n",
       "2  自分の村を失った少年や大人が、教会で新たな仲間と出会い、世界を守るために闇と戦っていく…悲し...   2007-01-01          藍   \n",
       "3  SPhinxとは、SP(SecurityPolice：要人警護、警護官)とスフィンクス（伝説...   2007-01-02      瑛彪・玄彪   \n",
       "4  誰でも潜む欲求。普通に生活し普通に生きてきたはずの男性や女性のふとした事からのフェチシズム。...   2007-01-02       かずん。   \n",
       "\n",
       "       ID     Sub_Genre    Genre Latest_Update  Word_Count  Weekly_Viewers  \\\n",
       "0  N3460B        Others   Others    2007-04-29       82039             100   \n",
       "1  N3458B        Others   Others    2007-07-02       47311             100   \n",
       "2  N3456B        Others   Others    2007-11-09       94887             100   \n",
       "3  N3483B  High Fantasy  Fantasy    2007-12-28        9244             100   \n",
       "4  N3485B        Others   Others    2007-01-28       27414             100   \n",
       "\n",
       "   Reviews  Bookmarks  Ratings  Total_Scores  \\\n",
       "0        0          3      2.0          12.0   \n",
       "1        0          0      0.0           0.0   \n",
       "2        0          0      0.0           0.0   \n",
       "3        0          0      1.0           2.0   \n",
       "4        0          0      0.0           0.0   \n",
       "\n",
       "                                    Keywords  Title_Length  Abstract_Length  \\\n",
       "0       霊 シリアス コメディ ハッピーエンド らぶらぶ 高校生 現代(モダン)             5               76   \n",
       "1   目 ８ 悪霊 霊 妖怪 高校生 現代(モダン) 霊界/地獄/天国 残酷な描写有り             7              106   \n",
       "2                        戦争 ファンタジー 少年 十字架 双子             3               65   \n",
       "3                      ＳＰ 中学生 高校生 太古 現代(モダン)             6               82   \n",
       "4                     R15 精神病 解離 人格障害 フェチシズム             8               93   \n",
       "\n",
       "   Average_Score  No_update  \n",
       "0            6.0          0  \n",
       "1            NaN          1  \n",
       "2            NaN          1  \n",
       "3            2.0          1  \n",
       "4            NaN          1  "
      ]
     },
     "execution_count": 2,
     "metadata": {},
     "output_type": "execute_result"
    }
   ],
   "source": [
    "df = pd.read_excel('japanesewebnovel.xlsx')\n",
    "df['No_update'] = np.where(((df['Status'] == 'On Going') & (df['Latest_Update'] < '2020-10-28')) , 1, 0)\n",
    "df.head()"
   ]
  },
  {
   "cell_type": "code",
   "execution_count": 3,
   "id": "f180acaa",
   "metadata": {},
   "outputs": [
    {
     "name": "stdout",
     "output_type": "stream",
     "text": [
      "<class 'pandas.core.frame.DataFrame'>\n",
      "RangeIndex: 400373 entries, 0 to 400372\n",
      "Data columns (total 21 columns):\n",
      " #   Column           Non-Null Count   Dtype  \n",
      "---  ------           --------------   -----  \n",
      " 0   Title            400373 non-null  object \n",
      " 1   Status           400373 non-null  object \n",
      " 2   Parts            400373 non-null  int64  \n",
      " 3   Abstract         400373 non-null  object \n",
      " 4   Publish Date     400373 non-null  object \n",
      " 5   Author           400366 non-null  object \n",
      " 6   ID               400373 non-null  object \n",
      " 7   Sub_Genre        400373 non-null  object \n",
      " 8   Genre            400373 non-null  object \n",
      " 9   Latest_Update    400373 non-null  object \n",
      " 10  Word_Count       400373 non-null  int64  \n",
      " 11  Weekly_Viewers   400373 non-null  int64  \n",
      " 12  Reviews          400373 non-null  int64  \n",
      " 13  Bookmarks        400373 non-null  int64  \n",
      " 14  Ratings          396972 non-null  float64\n",
      " 15  Total_Scores     396972 non-null  float64\n",
      " 16  Keywords         388765 non-null  object \n",
      " 17  Title_Length     400373 non-null  int64  \n",
      " 18  Abstract_Length  400373 non-null  int64  \n",
      " 19  Average_Score    189617 non-null  float64\n",
      " 20  No_update        400373 non-null  int32  \n",
      "dtypes: float64(3), int32(1), int64(7), object(10)\n",
      "memory usage: 62.6+ MB\n"
     ]
    }
   ],
   "source": [
    "df.info()"
   ]
  },
  {
   "cell_type": "code",
   "execution_count": 4,
   "id": "4d19f368",
   "metadata": {},
   "outputs": [
    {
     "data": {
      "text/html": [
       "<div>\n",
       "<style scoped>\n",
       "    .dataframe tbody tr th:only-of-type {\n",
       "        vertical-align: middle;\n",
       "    }\n",
       "\n",
       "    .dataframe tbody tr th {\n",
       "        vertical-align: top;\n",
       "    }\n",
       "\n",
       "    .dataframe thead th {\n",
       "        text-align: right;\n",
       "    }\n",
       "</style>\n",
       "<table border=\"1\" class=\"dataframe\">\n",
       "  <thead>\n",
       "    <tr style=\"text-align: right;\">\n",
       "      <th></th>\n",
       "      <th>Title_Length</th>\n",
       "      <th>Bookmarks</th>\n",
       "      <th>Average_Score</th>\n",
       "      <th>Word_Count</th>\n",
       "      <th>Weekly_Viewers</th>\n",
       "    </tr>\n",
       "  </thead>\n",
       "  <tbody>\n",
       "    <tr>\n",
       "      <th>min</th>\n",
       "      <td>1.00</td>\n",
       "      <td>0.00</td>\n",
       "      <td>2.00</td>\n",
       "      <td>0.00</td>\n",
       "      <td>100.00</td>\n",
       "    </tr>\n",
       "    <tr>\n",
       "      <th>max</th>\n",
       "      <td>100.00</td>\n",
       "      <td>283931.00</td>\n",
       "      <td>10.00</td>\n",
       "      <td>24362544.00</td>\n",
       "      <td>426771.00</td>\n",
       "    </tr>\n",
       "    <tr>\n",
       "      <th>median</th>\n",
       "      <td>11.00</td>\n",
       "      <td>1.00</td>\n",
       "      <td>8.50</td>\n",
       "      <td>11237.00</td>\n",
       "      <td>100.00</td>\n",
       "    </tr>\n",
       "    <tr>\n",
       "      <th>mean</th>\n",
       "      <td>14.00</td>\n",
       "      <td>230.55</td>\n",
       "      <td>8.04</td>\n",
       "      <td>63775.16</td>\n",
       "      <td>178.07</td>\n",
       "    </tr>\n",
       "    <tr>\n",
       "      <th>std</th>\n",
       "      <td>10.72</td>\n",
       "      <td>2617.87</td>\n",
       "      <td>1.86</td>\n",
       "      <td>203427.00</td>\n",
       "      <td>2205.72</td>\n",
       "    </tr>\n",
       "  </tbody>\n",
       "</table>\n",
       "</div>"
      ],
      "text/plain": [
       "        Title_Length  Bookmarks  Average_Score   Word_Count  Weekly_Viewers\n",
       "min             1.00       0.00           2.00         0.00          100.00\n",
       "max           100.00  283931.00          10.00  24362544.00       426771.00\n",
       "median         11.00       1.00           8.50     11237.00          100.00\n",
       "mean           14.00     230.55           8.04     63775.16          178.07\n",
       "std            10.72    2617.87           1.86    203427.00         2205.72"
      ]
     },
     "execution_count": 4,
     "metadata": {},
     "output_type": "execute_result"
    }
   ],
   "source": [
    "df.agg({\n",
    "    \"Title_Length\": [\"min\", \"max\", \"median\", \"mean\", \"std\"],\n",
    "    \"Bookmarks\": [\"min\", \"max\", \"median\", \"mean\", \"std\"],\n",
    "    \"Average_Score\": [\"min\", \"max\", \"median\", \"mean\", \"std\"],\n",
    "    \"Word_Count\": [\"min\", \"max\", \"median\", \"mean\", \"std\"],\n",
    "    \"Weekly_Viewers\": [\"min\", \"max\", \"median\", \"mean\", \"std\"],\n",
    "}).round(2)"
   ]
  },
  {
   "cell_type": "markdown",
   "id": "b9c11f8c",
   "metadata": {},
   "source": [
    "### Robust Linear Regression \n",
    "Since some authors might ask their friends to bookmark their web novels and leave a good rating while some do not, I exclude the outliers with 20 or fewer bookmarks and ratings in the robust linear regression model."
   ]
  },
  {
   "cell_type": "code",
   "execution_count": 5,
   "id": "8d49fe94",
   "metadata": {},
   "outputs": [],
   "source": [
    "# dummy variabes for genres\n",
    "dummy = pd.get_dummies(df['Genre'])\n",
    "dummy = dummy.rename(columns={\"Sci-fi\": \"Sci_fi\"})\n",
    "df = pd.concat([df, dummy], axis=1)\n",
    "df.drop(columns=['Others'])\n",
    "\n",
    "# interaction terms (title_length * genre)\n",
    "df['tlength_fantasy'] = df['Title_Length']*df['Fantasy']\n",
    "df['tlength_literature'] = df['Title_Length']*df['Literature']\n",
    "df['tlength_romance'] = df['Title_Length']*df['Romance']\n",
    "df['tlength_scifi'] = df['Title_Length']*df['Sci_fi']"
   ]
  },
  {
   "cell_type": "code",
   "execution_count": 6,
   "id": "64b5b153",
   "metadata": {},
   "outputs": [
    {
     "data": {
      "text/html": [
       "<table style=\"text-align:center\"><tr><td colspan=\"5\" style=\"border-bottom: 1px solid black\"></td></tr><tr><td style=\"text-align:left\"></td><tr><td></td><td colspan=\"1\">Bookmarks</td><td colspan=\"1\">Bookmarks</td><td colspan=\"1\">Average Score</td><td colspan=\"1\">Average Score</td></tr><tr><td style=\"text-align:left\"></td><td>(1)</td><td>(2)</td><td>(3)</td><td>(4)</td></tr><tr><td colspan=\"5\" style=\"border-bottom: 1px solid black\"></td></tr><tr><td style=\"text-align:left\">Intercept</td><td>243.043<sup>***</sup></td><td>283.036<sup>***</sup></td><td>8.826<sup>***</sup></td><td>8.806<sup>***</sup></td></tr><tr><td style=\"text-align:left\"></td><td>(6.721)</td><td>(11.292)</td><td>(0.009)</td><td>(0.014)</td></tr><tr><td style=\"text-align:left\">Title_Length</td><td>2.821<sup>***</sup></td><td>-0.090<sup></sup></td><td>-0.001<sup>***</sup></td><td>0.001<sup></sup></td></tr><tr><td style=\"text-align:left\"></td><td>(0.165)</td><td>(0.675)</td><td>(0.000)</td><td>(0.001)</td></tr><tr><td style=\"text-align:left\">Parts</td><td>1.273<sup>***</sup></td><td>1.271<sup>***</sup></td><td>-0.000<sup>***</sup></td><td>-0.000<sup>***</sup></td></tr><tr><td style=\"text-align:left\"></td><td>(0.016)</td><td>(0.016)</td><td>(0.000)</td><td>(0.000)</td></tr><tr><td style=\"text-align:left\">Fantasy</td><td>-3.973<sup></sup></td><td>-46.055<sup>***</sup></td><td>-0.009<sup></sup></td><td>0.040<sup>**</sup></td></tr><tr><td style=\"text-align:left\"></td><td>(7.623)</td><td>(13.104)</td><td>(0.010)</td><td>(0.017)</td></tr><tr><td style=\"text-align:left\">Literature</td><td>-5.359<sup></sup></td><td>-54.359<sup>***</sup></td><td>0.242<sup>***</sup></td><td>0.308<sup>***</sup></td></tr><tr><td style=\"text-align:left\"></td><td>(10.067)</td><td>(17.369)</td><td>(0.012)</td><td>(0.022)</td></tr><tr><td style=\"text-align:left\">Romance</td><td>185.152<sup>***</sup></td><td>139.701<sup>***</sup></td><td>0.093<sup>***</sup></td><td>0.071<sup>***</sup></td></tr><tr><td style=\"text-align:left\"></td><td>(7.737)</td><td>(13.700)</td><td>(0.010)</td><td>(0.017)</td></tr><tr><td style=\"text-align:left\">Sci_fi</td><td>95.378<sup>***</sup></td><td>29.394<sup></sup></td><td>0.025<sup></sup></td><td>0.019<sup></sup></td></tr><tr><td style=\"text-align:left\"></td><td>(12.394)</td><td>(22.358)</td><td>(0.015)</td><td>(0.027)</td></tr><tr><td style=\"text-align:left\">Title length x Fantasy</td><td></td><td>2.978<sup>***</sup></td><td></td><td>-0.003<sup>***</sup></td></tr><tr><td style=\"text-align:left\"></td><td></td><td>(0.711)</td><td></td><td>(0.001)</td></tr><tr><td style=\"text-align:left\">Title length x Literature</td><td></td><td>3.359<sup>***</sup></td><td></td><td>-0.004<sup>***</sup></td></tr><tr><td style=\"text-align:left\"></td><td></td><td>(0.864)</td><td></td><td>(0.001)</td></tr><tr><td style=\"text-align:left\">Title length x Romance</td><td></td><td>3.155<sup>***</sup></td><td></td><td>0.001<sup></sup></td></tr><tr><td style=\"text-align:left\"></td><td></td><td>(0.751)</td><td></td><td>(0.001)</td></tr><tr><td style=\"text-align:left\">Title length x Sci-fi</td><td></td><td>4.098<sup>***</sup></td><td></td><td>-0.000<sup></sup></td></tr><tr><td style=\"text-align:left\"></td><td></td><td>(0.995)</td><td></td><td>(0.001)</td></tr><td colspan=\"5\" style=\"border-bottom: 1px solid black\"></td></tr><tr><td style=\"text-align: left\">Observations</td><td>49,257</td><td>49,257</td><td>26,214</td><td>26,214</td></tr><tr><td style=\"text-align: left\">R<sup>2</sup></td><td></td><td></td><td></td><td></td></tr><tr><td style=\"text-align: left\">Adjusted R<sup>2</sup></td><td></td><td></td><td></td><td></td></tr><tr><td style=\"text-align: left\">Residual Std. Error</td><td>21.851 (df=49250)</td><td>21.806 (df=49246)</td><td>0.682 (df=26207)</td><td>0.681 (df=26203)</td></tr><tr><td style=\"text-align: left\">F Statistic</td><td><sup></sup> (df=6; 49250)</td><td><sup></sup> (df=10; 49246)</td><td><sup></sup> (df=6; 26207)</td><td><sup></sup> (df=10; 26203)</td></tr><tr><td colspan=\"5\" style=\"border-bottom: 1px solid black\"></td></tr><tr><td style=\"text-align: left\">Note:</td>\n",
       " <td colspan=\"4\" style=\"text-align: right\">\n",
       "  <sup>*</sup>p&lt;0.1;\n",
       "  <sup>**</sup>p&lt;0.05;\n",
       "  <sup>***</sup>p&lt;0.01\n",
       " </td></tr></table>"
      ],
      "text/plain": [
       "<IPython.core.display.HTML object>"
      ]
     },
     "execution_count": 6,
     "metadata": {},
     "output_type": "execute_result"
    }
   ],
   "source": [
    "df1 = df[df['Bookmarks'] >= 50]\n",
    "model1 = rlm('Bookmarks ~ Title_Length + Fantasy + Literature + Romance + Sci_fi + Parts',data=df1).fit()\n",
    "model2 = rlm('Bookmarks ~ Title_Length + Fantasy + Literature + Romance + Sci_fi + Parts + tlength_fantasy + tlength_literature + tlength_romance + tlength_scifi',data=df1).fit()\n",
    "\n",
    "df2 = df[df['Ratings'] >= 30]\n",
    "model3 = rlm('Average_Score ~ Title_Length + Fantasy + Literature + Romance + Sci_fi + Parts',data=df2).fit()\n",
    "model4 = rlm('Average_Score ~ Title_Length + Fantasy + Literature + Romance + Sci_fi + Parts + tlength_fantasy + tlength_literature + tlength_romance + tlength_scifi',data=df2).fit()\n",
    "\n",
    "stargazer = Stargazer([model1, model2, model3, model4])\n",
    "stargazer.rename_covariates({'tlength_fantasy': 'Title length x Fantasy',\n",
    "                             'tlength_literature': 'Title length x Literature',\n",
    "                             'tlength_romance': 'Title length x Romance',\n",
    "                             'tlength_scifi': 'Title length x Sci-fi'})\n",
    "stargazer.covariate_order(['Intercept','Title_Length','Parts','Fantasy','Literature','Romance','Sci_fi','tlength_fantasy','tlength_literature','tlength_romance','tlength_scifi'])\n",
    "stargazer.custom_columns(['Bookmarks','Bookmarks','Average Score','Average Score'], [1, 1, 1, 1])\n",
    "HTML(stargazer.render_html())"
   ]
  },
  {
   "cell_type": "code",
   "execution_count": 7,
   "id": "0a16ab4f",
   "metadata": {},
   "outputs": [
    {
     "data": {
      "text/html": [
       "<table style=\"text-align:center\"><tr><td colspan=\"5\" style=\"border-bottom: 1px solid black\"></td></tr><tr><td style=\"text-align:left\"></td><tr><td></td><td colspan=\"1\">Bookmarks</td><td colspan=\"1\">Bookmarks</td><td colspan=\"1\">Average Score</td><td colspan=\"1\">Average Score</td></tr><tr><td style=\"text-align:left\"></td><td>(1)</td><td>(2)</td><td>(3)</td><td>(4)</td></tr><tr><td colspan=\"5\" style=\"border-bottom: 1px solid black\"></td></tr><tr><td style=\"text-align:left\">Intercept</td><td>79.486<sup>***</sup></td><td>105.323<sup>***</sup></td><td>8.833<sup>***</sup></td><td>8.805<sup>***</sup></td></tr><tr><td style=\"text-align:left\"></td><td>(2.558)</td><td>(4.234)</td><td>(0.008)</td><td>(0.013)</td></tr><tr><td style=\"text-align:left\">Title_Length</td><td>1.909<sup>***</sup></td><td>0.021<sup></sup></td><td>-0.001<sup>***</sup></td><td>0.001<sup>*</sup></td></tr><tr><td style=\"text-align:left\"></td><td>(0.069)</td><td>(0.253)</td><td>(0.000)</td><td>(0.001)</td></tr><tr><td style=\"text-align:left\">Parts</td><td>1.128<sup>***</sup></td><td>1.124<sup>***</sup></td><td>-0.000<sup>***</sup></td><td>-0.000<sup>***</sup></td></tr><tr><td style=\"text-align:left\"></td><td>(0.007)</td><td>(0.007)</td><td>(0.000)</td><td>(0.000)</td></tr><tr><td style=\"text-align:left\">Fantasy</td><td>-4.909<sup>*</sup></td><td>-33.498<sup>***</sup></td><td>-0.063<sup>***</sup></td><td>-0.008<sup></sup></td></tr><tr><td style=\"text-align:left\"></td><td>(2.920)</td><td>(5.012)</td><td>(0.009)</td><td>(0.016)</td></tr><tr><td style=\"text-align:left\">Literature</td><td>-11.039<sup>***</sup></td><td>-34.371<sup>***</sup></td><td>0.215<sup>***</sup></td><td>0.279<sup>***</sup></td></tr><tr><td style=\"text-align:left\"></td><td>(3.816)</td><td>(6.520)</td><td>(0.012)</td><td>(0.020)</td></tr><tr><td style=\"text-align:left\">Romance</td><td>112.621<sup>***</sup></td><td>76.926<sup>***</sup></td><td>0.062<sup>***</sup></td><td>0.050<sup>***</sup></td></tr><tr><td style=\"text-align:left\"></td><td>(3.034)</td><td>(5.358)</td><td>(0.009)</td><td>(0.016)</td></tr><tr><td style=\"text-align:left\">Sci_fi</td><td>42.222<sup>***</sup></td><td>1.420<sup></sup></td><td>-0.016<sup></sup></td><td>-0.009<sup></sup></td></tr><tr><td style=\"text-align:left\"></td><td>(4.972)</td><td>(8.891)</td><td>(0.015)</td><td>(0.026)</td></tr><tr><td style=\"text-align:left\">Title length x Fantasy</td><td></td><td>1.991<sup>***</sup></td><td></td><td>-0.003<sup>***</sup></td></tr><tr><td style=\"text-align:left\"></td><td></td><td>(0.270)</td><td></td><td>(0.001)</td></tr><tr><td style=\"text-align:left\">Title length x Literature</td><td></td><td>1.726<sup>***</sup></td><td></td><td>-0.004<sup>***</sup></td></tr><tr><td style=\"text-align:left\"></td><td></td><td>(0.331)</td><td></td><td>(0.001)</td></tr><tr><td style=\"text-align:left\">Title length x Romance</td><td></td><td>2.379<sup>***</sup></td><td></td><td>-0.000<sup></sup></td></tr><tr><td style=\"text-align:left\"></td><td></td><td>(0.290)</td><td></td><td>(0.001)</td></tr><tr><td style=\"text-align:left\">Title length x Sci-fi</td><td></td><td>2.595<sup>***</sup></td><td></td><td>-0.001<sup></sup></td></tr><tr><td style=\"text-align:left\"></td><td></td><td>(0.397)</td><td></td><td>(0.001)</td></tr><td colspan=\"5\" style=\"border-bottom: 1px solid black\"></td></tr><tr><td style=\"text-align: left\">Observations</td><td>71,803</td><td>71,803</td><td>32,497</td><td>32,497</td></tr><tr><td style=\"text-align: left\">R<sup>2</sup></td><td></td><td></td><td></td><td></td></tr><tr><td style=\"text-align: left\">Adjusted R<sup>2</sup></td><td></td><td></td><td></td><td></td></tr><tr><td style=\"text-align: left\">Residual Std. Error</td><td>14.968 (df=71796)</td><td>14.898 (df=71792)</td><td>0.708 (df=32490)</td><td>0.707 (df=32486)</td></tr><tr><td style=\"text-align: left\">F Statistic</td><td><sup></sup> (df=6; 71796)</td><td><sup></sup> (df=10; 71792)</td><td><sup></sup> (df=6; 32490)</td><td><sup></sup> (df=10; 32486)</td></tr><tr><td colspan=\"5\" style=\"border-bottom: 1px solid black\"></td></tr><tr><td style=\"text-align: left\">Note:</td>\n",
       " <td colspan=\"4\" style=\"text-align: right\">\n",
       "  <sup>*</sup>p&lt;0.1;\n",
       "  <sup>**</sup>p&lt;0.05;\n",
       "  <sup>***</sup>p&lt;0.01\n",
       " </td></tr></table>"
      ],
      "text/plain": [
       "<IPython.core.display.HTML object>"
      ]
     },
     "execution_count": 7,
     "metadata": {},
     "output_type": "execute_result"
    }
   ],
   "source": [
    "df1 = df[df['Bookmarks'] >= 20]\n",
    "model1 = rlm('Bookmarks ~ Title_Length + Fantasy + Literature + Romance + Sci_fi + Parts',data=df1).fit()\n",
    "model2 = rlm('Bookmarks ~ Title_Length + Fantasy + Literature + Romance + Sci_fi + Parts + tlength_fantasy + tlength_literature + tlength_romance + tlength_scifi',data=df1).fit()\n",
    "\n",
    "df2 = df[df['Ratings'] >= 20]\n",
    "model3 = rlm('Average_Score ~ Title_Length + Fantasy + Literature + Romance + Sci_fi + Parts',data=df2).fit()\n",
    "model4 = rlm('Average_Score ~ Title_Length + Fantasy + Literature + Romance + Sci_fi + Parts + tlength_fantasy + tlength_literature + tlength_romance + tlength_scifi',data=df2).fit()\n",
    "\n",
    "stargazer = Stargazer([model1, model2, model3, model4])\n",
    "stargazer.rename_covariates({'tlength_fantasy': 'Title length x Fantasy',\n",
    "                             'tlength_literature': 'Title length x Literature',\n",
    "                             'tlength_romance': 'Title length x Romance',\n",
    "                             'tlength_scifi': 'Title length x Sci-fi'})\n",
    "stargazer.covariate_order(['Intercept','Title_Length','Parts','Fantasy','Literature','Romance','Sci_fi','tlength_fantasy','tlength_literature','tlength_romance','tlength_scifi'])\n",
    "stargazer.custom_columns(['Bookmarks','Bookmarks','Average Score','Average Score'], [1, 1, 1, 1])\n",
    "HTML(stargazer.render_html())"
   ]
  },
  {
   "cell_type": "markdown",
   "id": "5859fd8e",
   "metadata": {},
   "source": [
    "## Quantile Regression\n",
    "\n",
    "### Number of Bookmarks"
   ]
  },
  {
   "cell_type": "code",
   "execution_count": 8,
   "id": "3c68b344",
   "metadata": {},
   "outputs": [
    {
     "data": {
      "image/png": "[encoded data removed]",
      "text/plain": [
       "<Figure size 432x288 with 1 Axes>"
      ]
     },
     "metadata": {},
     "output_type": "display_data"
    }
   ],
   "source": [
    "quantiles = np.arange(0.05, 1.00, 0.05)\n",
    "def fit_model(model,q):\n",
    "    res = model.fit(q=q)\n",
    "    return [q, res.params[\"Intercept\"], res.params[\"Title_Length\"]] + res.conf_int().loc[\"Title_Length\"].tolist()\n",
    "\n",
    "qr_bookmark = quantreg(\"Bookmarks ~ Title_Length + Fantasy + Literature + Romance + Sci_fi + Parts\", data=df1)\n",
    "model1 = [fit_model(qr_bookmark,x) for x in quantiles]\n",
    "model1 = pd.DataFrame(model1, columns=[\"q\", \"a\", \"b\", \"lb\", \"ub\"])\n",
    "\n",
    "plt.plot(model1.q, model1.b, label=\"Quantile Reg.\", color = 'black')\n",
    "plt.plot(model1.q, model1.ub, linestyle=\"dotted\", color = 'black')\n",
    "plt.plot(model1.q, model1.lb, linestyle=\"dotted\", color = 'black')\n",
    "plt.ylabel(\"Estimated effect of Title Length\")\n",
    "plt.xlabel(\"Quantiles\")\n",
    "plt.show()"
   ]
  },
  {
   "cell_type": "markdown",
   "id": "514b3717",
   "metadata": {},
   "source": [
    "### Average score"
   ]
  },
  {
   "cell_type": "code",
   "execution_count": 9,
   "id": "d9fecf95",
   "metadata": {},
   "outputs": [
    {
     "data": {
      "text/plain": [
       "0.10    8.0563\n",
       "0.25    8.4800\n",
       "0.50    8.8571\n",
       "0.75    9.1660\n",
       "0.90    9.3902\n",
       "Name: Average_Score, dtype: float64"
      ]
     },
     "execution_count": 9,
     "metadata": {},
     "output_type": "execute_result"
    }
   ],
   "source": [
    "df2.Average_Score.quantile([0.1,0.25,0.5,0.75,0.9])"
   ]
  },
  {
   "cell_type": "code",
   "execution_count": 10,
   "id": "df951502",
   "metadata": {},
   "outputs": [
    {
     "data": {
      "image/png": "[encoded data removed]",
      "text/plain": [
       "<Figure size 432x288 with 1 Axes>"
      ]
     },
     "metadata": {},
     "output_type": "display_data"
    }
   ],
   "source": [
    "qr_score = quantreg(\"Average_Score ~ Title_Length + Fantasy + Literature + Romance + Sci_fi + Parts\", data=df2)\n",
    "model2 = [fit_model(qr_score,x) for x in quantiles]\n",
    "model2 = pd.DataFrame(model2, columns=[\"q\", \"a\", \"b\", \"lb\", \"ub\"])\n",
    "\n",
    "plt.plot(model2.q, model2.b, label=\"Quantile Reg.\", color = 'black')\n",
    "plt.plot(model2.q, model2.ub, linestyle=\"dotted\", color = 'black')\n",
    "plt.plot(model2.q, model2.lb, linestyle=\"dotted\", color = 'black')\n",
    "plt.ylabel(\"Estimated effect of Title Length\")\n",
    "plt.xlabel(\"Quantiles\")\n",
    "plt.show()"
   ]
  },
  {
   "cell_type": "markdown",
   "id": "64b8d8ce",
   "metadata": {},
   "source": [
    "## Part 2: K-NN and Logistic Regression\n",
    "In this part, I will use K Nearest Neighbor and logistic regression to predict if the author has stopped updating the web novels."
   ]
  },
  {
   "cell_type": "code",
   "execution_count": 12,
   "id": "94ad2132",
   "metadata": {},
   "outputs": [
    {
     "data": {
      "text/plain": [
       "1    272763\n",
       "0     25671\n",
       "Name: No_update, dtype: int64"
      ]
     },
     "execution_count": 12,
     "metadata": {},
     "output_type": "execute_result"
    }
   ],
   "source": [
    "df_ongoing = df[df['Status'] == 'On Going']\n",
    "df_ongoing['No_update'].value_counts()"
   ]
  },
  {
   "cell_type": "code",
   "execution_count": 13,
   "id": "89d82952",
   "metadata": {},
   "outputs": [
    {
     "data": {
      "text/plain": [
       "<AxesSubplot:ylabel='No_update'>"
      ]
     },
     "execution_count": 13,
     "metadata": {},
     "output_type": "execute_result"
    },
    {
     "data": {
      "image/png": "[encoded data removed]",
      "text/plain": [
       "<Figure size 432x288 with 1 Axes>"
      ]
     },
     "metadata": {},
     "output_type": "display_data"
    }
   ],
   "source": [
    "df_ongoing['No_update'].value_counts().plot.pie()"
   ]
  },
  {
   "cell_type": "markdown",
   "id": "721b7f8a",
   "metadata": {},
   "source": [
    "The majority of the ongoing novel hasn't had any update for over a year! "
   ]
  },
  {
   "cell_type": "code",
   "execution_count": 14,
   "id": "5009309f",
   "metadata": {},
   "outputs": [],
   "source": [
    "label_encoder = LabelEncoder()\n",
    "df_ongoing['Genre'] = df_ongoing[['Genre']].apply(label_encoder.fit_transform)\n",
    "df_ongoing['Average_Score'] = df_ongoing['Average_Score'].replace(np.NaN, 0)\n",
    "df_ongoing = df_ongoing.dropna()\n",
    "x = df_ongoing[['Title_Length','Genre','Reviews','Ratings','Bookmarks']]\n",
    "y = df_ongoing['No_update']\n",
    "X_train, X_test, y_train, y_test = train_test_split(x, y, test_size = 0.2)"
   ]
  },
  {
   "cell_type": "code",
   "execution_count": 15,
   "id": "e8285f3c",
   "metadata": {},
   "outputs": [],
   "source": [
    "from sklearn.neighbors import KNeighborsClassifier\n",
    "\n",
    "num = []\n",
    "scores = []\n",
    "for i in range(1,20):\n",
    "    knn = KNeighborsClassifier(n_neighbors = i)\n",
    "    knn.fit(X_train, y_train)\n",
    "    score_knn = knn.score(X_test, y_test)\n",
    "    num.append(i)\n",
    "    scores.append(score_knn)\n",
    "dic = dict(zip(num, scores))\n",
    "k = max(dic, key=dic. get)\n",
    "score_knn = max(scores)"
   ]
  },
  {
   "cell_type": "code",
   "execution_count": 16,
   "id": "e1414be9",
   "metadata": {},
   "outputs": [
    {
     "data": {
      "image/png": "[encoded data removed]",
      "text/plain": [
       "<Figure size 432x288 with 1 Axes>"
      ]
     },
     "metadata": {},
     "output_type": "display_data"
    },
    {
     "name": "stdout",
     "output_type": "stream",
     "text": [
      "The number of neighbors that maximize the accuracy is 17 ,and its accuracy is 0.91454 .\n"
     ]
    }
   ],
   "source": [
    "fig = plt.figure()\n",
    "ax = fig.add_axes([0,0,1,1])\n",
    "ax.bar(num,scores)\n",
    "ax.set_ylim(0.5,0.95)\n",
    "plt.show()\n",
    "print('The number of neighbors that maximize the accuracy is',k,',and its accuracy is',max(scores).round(5),'.')"
   ]
  },
  {
   "cell_type": "code",
   "execution_count": 17,
   "id": "e25ada2f",
   "metadata": {},
   "outputs": [
    {
     "data": {
      "text/plain": [
       "0.9136545134348137"
      ]
     },
     "execution_count": 17,
     "metadata": {},
     "output_type": "execute_result"
    }
   ],
   "source": [
    "from sklearn.linear_model import LogisticRegression\n",
    "logistic_reg = LogisticRegression()\n",
    "logistic_reg.fit(X_train,y_train)\n",
    "score_logistic = logistic_reg.score(X_test,y_test)\n",
    "score_logistic"
   ]
  }
 ],
 "metadata": {
  "kernelspec": {
   "display_name": "Python 3",
   "language": "python",
   "name": "python3"
  },
  "language_info": {
   "codemirror_mode": {
    "name": "ipython",
    "version": 3
   },
   "file_extension": ".py",
   "mimetype": "text/x-python",
   "name": "python",
   "nbconvert_exporter": "python",
   "pygments_lexer": "ipython3",
   "version": "3.8.8"
  }
 },
 "nbformat": 4,
 "nbformat_minor": 5
}
